{
 "cells": [
  {
   "cell_type": "markdown",
   "id": "cc9b6032",
   "metadata": {
    "papermill": {
     "duration": 0.025064,
     "end_time": "2022-02-23T06:53:50.224000",
     "exception": false,
     "start_time": "2022-02-23T06:53:50.198936",
     "status": "completed"
    },
    "tags": []
   },
   "source": [
    "# Titanic"
   ]
  },
  {
   "cell_type": "code",
   "execution_count": 10,
   "id": "925bd7e5",
   "metadata": {
    "execution": {
     "iopub.execute_input": "2022-02-23T06:53:50.283883Z",
     "iopub.status.busy": "2022-02-23T06:53:50.282104Z",
     "iopub.status.idle": "2022-02-23T06:53:51.198865Z",
     "shell.execute_reply": "2022-02-23T06:53:51.198131Z",
     "shell.execute_reply.started": "2022-02-23T06:53:04.378907Z"
    },
    "papermill": {
     "duration": 0.944503,
     "end_time": "2022-02-23T06:53:51.199032",
     "exception": false,
     "start_time": "2022-02-23T06:53:50.254529",
     "status": "completed"
    },
    "tags": []
   },
   "outputs": [],
   "source": [
    "import numpy as np \n",
    "import pandas as pd \n",
    "import seaborn as sns\n",
    "import matplotlib.pyplot as plt"
   ]
  },
  {
   "cell_type": "markdown",
   "id": "435b8003",
   "metadata": {
    "papermill": {
     "duration": 0.01895,
     "end_time": "2022-02-23T06:53:51.237161",
     "exception": false,
     "start_time": "2022-02-23T06:53:51.218211",
     "status": "completed"
    },
    "tags": []
   },
   "source": [
    "# Read Data"
   ]
  },
  {
   "cell_type": "code",
   "execution_count": 11,
   "id": "a40cf141",
   "metadata": {
    "execution": {
     "iopub.execute_input": "2022-02-23T06:53:51.280204Z",
     "iopub.status.busy": "2022-02-23T06:53:51.279462Z",
     "iopub.status.idle": "2022-02-23T06:53:51.306569Z",
     "shell.execute_reply": "2022-02-23T06:53:51.307113Z",
     "shell.execute_reply.started": "2022-02-23T06:53:04.392239Z"
    },
    "papermill": {
     "duration": 0.051243,
     "end_time": "2022-02-23T06:53:51.307299",
     "exception": false,
     "start_time": "2022-02-23T06:53:51.256056",
     "status": "completed"
    },
    "tags": []
   },
   "outputs": [],
   "source": [
    "train  = pd.read_csv(\"../input/titanic/train.csv\")\n",
    "test   = pd.read_csv(\"../input/titanic/test.csv\")\n",
    "sample = pd.read_csv(\"../input/titanic/gender_submission.csv\")"
   ]
  },
  {
   "cell_type": "markdown",
   "id": "ecf14be4",
   "metadata": {
    "papermill": {
     "duration": 0.018697,
     "end_time": "2022-02-23T06:53:51.345383",
     "exception": false,
     "start_time": "2022-02-23T06:53:51.326686",
     "status": "completed"
    },
    "tags": []
   },
   "source": [
    "# Check Data"
   ]
  },
  {
   "cell_type": "code",
   "execution_count": 12,
   "id": "3108ec5d",
   "metadata": {
    "execution": {
     "iopub.execute_input": "2022-02-23T06:53:51.386712Z",
     "iopub.status.busy": "2022-02-23T06:53:51.386108Z",
     "iopub.status.idle": "2022-02-23T06:53:51.406914Z",
     "shell.execute_reply": "2022-02-23T06:53:51.407385Z",
     "shell.execute_reply.started": "2022-02-23T06:53:04.460156Z"
    },
    "papermill": {
     "duration": 0.043208,
     "end_time": "2022-02-23T06:53:51.407577",
     "exception": false,
     "start_time": "2022-02-23T06:53:51.364369",
     "status": "completed"
    },
    "tags": []
   },
   "outputs": [
    {
     "data": {
      "text/html": [
       "<div>\n",
       "<style scoped>\n",
       "    .dataframe tbody tr th:only-of-type {\n",
       "        vertical-align: middle;\n",
       "    }\n",
       "\n",
       "    .dataframe tbody tr th {\n",
       "        vertical-align: top;\n",
       "    }\n",
       "\n",
       "    .dataframe thead th {\n",
       "        text-align: right;\n",
       "    }\n",
       "</style>\n",
       "<table border=\"1\" class=\"dataframe\">\n",
       "  <thead>\n",
       "    <tr style=\"text-align: right;\">\n",
       "      <th></th>\n",
       "      <th>PassengerId</th>\n",
       "      <th>Pclass</th>\n",
       "      <th>Name</th>\n",
       "      <th>Sex</th>\n",
       "      <th>Age</th>\n",
       "      <th>SibSp</th>\n",
       "      <th>Parch</th>\n",
       "      <th>Ticket</th>\n",
       "      <th>Fare</th>\n",
       "      <th>Cabin</th>\n",
       "      <th>Embarked</th>\n",
       "    </tr>\n",
       "  </thead>\n",
       "  <tbody>\n",
       "    <tr>\n",
       "      <th>0</th>\n",
       "      <td>892</td>\n",
       "      <td>3</td>\n",
       "      <td>Kelly, Mr. James</td>\n",
       "      <td>male</td>\n",
       "      <td>34.5</td>\n",
       "      <td>0</td>\n",
       "      <td>0</td>\n",
       "      <td>330911</td>\n",
       "      <td>7.8292</td>\n",
       "      <td>NaN</td>\n",
       "      <td>Q</td>\n",
       "    </tr>\n",
       "    <tr>\n",
       "      <th>1</th>\n",
       "      <td>893</td>\n",
       "      <td>3</td>\n",
       "      <td>Wilkes, Mrs. James (Ellen Needs)</td>\n",
       "      <td>female</td>\n",
       "      <td>47.0</td>\n",
       "      <td>1</td>\n",
       "      <td>0</td>\n",
       "      <td>363272</td>\n",
       "      <td>7.0000</td>\n",
       "      <td>NaN</td>\n",
       "      <td>S</td>\n",
       "    </tr>\n",
       "    <tr>\n",
       "      <th>2</th>\n",
       "      <td>894</td>\n",
       "      <td>2</td>\n",
       "      <td>Myles, Mr. Thomas Francis</td>\n",
       "      <td>male</td>\n",
       "      <td>62.0</td>\n",
       "      <td>0</td>\n",
       "      <td>0</td>\n",
       "      <td>240276</td>\n",
       "      <td>9.6875</td>\n",
       "      <td>NaN</td>\n",
       "      <td>Q</td>\n",
       "    </tr>\n",
       "    <tr>\n",
       "      <th>3</th>\n",
       "      <td>895</td>\n",
       "      <td>3</td>\n",
       "      <td>Wirz, Mr. Albert</td>\n",
       "      <td>male</td>\n",
       "      <td>27.0</td>\n",
       "      <td>0</td>\n",
       "      <td>0</td>\n",
       "      <td>315154</td>\n",
       "      <td>8.6625</td>\n",
       "      <td>NaN</td>\n",
       "      <td>S</td>\n",
       "    </tr>\n",
       "    <tr>\n",
       "      <th>4</th>\n",
       "      <td>896</td>\n",
       "      <td>3</td>\n",
       "      <td>Hirvonen, Mrs. Alexander (Helga E Lindqvist)</td>\n",
       "      <td>female</td>\n",
       "      <td>22.0</td>\n",
       "      <td>1</td>\n",
       "      <td>1</td>\n",
       "      <td>3101298</td>\n",
       "      <td>12.2875</td>\n",
       "      <td>NaN</td>\n",
       "      <td>S</td>\n",
       "    </tr>\n",
       "  </tbody>\n",
       "</table>\n",
       "</div>"
      ],
      "text/plain": [
       "   PassengerId  Pclass                                          Name     Sex  \\\n",
       "0          892       3                              Kelly, Mr. James    male   \n",
       "1          893       3              Wilkes, Mrs. James (Ellen Needs)  female   \n",
       "2          894       2                     Myles, Mr. Thomas Francis    male   \n",
       "3          895       3                              Wirz, Mr. Albert    male   \n",
       "4          896       3  Hirvonen, Mrs. Alexander (Helga E Lindqvist)  female   \n",
       "\n",
       "    Age  SibSp  Parch   Ticket     Fare Cabin Embarked  \n",
       "0  34.5      0      0   330911   7.8292   NaN        Q  \n",
       "1  47.0      1      0   363272   7.0000   NaN        S  \n",
       "2  62.0      0      0   240276   9.6875   NaN        Q  \n",
       "3  27.0      0      0   315154   8.6625   NaN        S  \n",
       "4  22.0      1      1  3101298  12.2875   NaN        S  "
      ]
     },
     "execution_count": 12,
     "metadata": {},
     "output_type": "execute_result"
    }
   ],
   "source": [
    "test.head()"
   ]
  },
  {
   "cell_type": "code",
   "execution_count": 13,
   "id": "58aabd94",
   "metadata": {
    "execution": {
     "iopub.execute_input": "2022-02-23T06:53:51.453518Z",
     "iopub.status.busy": "2022-02-23T06:53:51.452824Z",
     "iopub.status.idle": "2022-02-23T06:53:51.457660Z",
     "shell.execute_reply": "2022-02-23T06:53:51.458173Z",
     "shell.execute_reply.started": "2022-02-23T06:53:04.547748Z"
    },
    "papermill": {
     "duration": 0.031071,
     "end_time": "2022-02-23T06:53:51.458331",
     "exception": false,
     "start_time": "2022-02-23T06:53:51.427260",
     "status": "completed"
    },
    "tags": []
   },
   "outputs": [
    {
     "data": {
      "text/html": [
       "<div>\n",
       "<style scoped>\n",
       "    .dataframe tbody tr th:only-of-type {\n",
       "        vertical-align: middle;\n",
       "    }\n",
       "\n",
       "    .dataframe tbody tr th {\n",
       "        vertical-align: top;\n",
       "    }\n",
       "\n",
       "    .dataframe thead th {\n",
       "        text-align: right;\n",
       "    }\n",
       "</style>\n",
       "<table border=\"1\" class=\"dataframe\">\n",
       "  <thead>\n",
       "    <tr style=\"text-align: right;\">\n",
       "      <th></th>\n",
       "      <th>PassengerId</th>\n",
       "      <th>Survived</th>\n",
       "    </tr>\n",
       "  </thead>\n",
       "  <tbody>\n",
       "    <tr>\n",
       "      <th>0</th>\n",
       "      <td>892</td>\n",
       "      <td>0</td>\n",
       "    </tr>\n",
       "    <tr>\n",
       "      <th>1</th>\n",
       "      <td>893</td>\n",
       "      <td>1</td>\n",
       "    </tr>\n",
       "    <tr>\n",
       "      <th>2</th>\n",
       "      <td>894</td>\n",
       "      <td>0</td>\n",
       "    </tr>\n",
       "    <tr>\n",
       "      <th>3</th>\n",
       "      <td>895</td>\n",
       "      <td>0</td>\n",
       "    </tr>\n",
       "    <tr>\n",
       "      <th>4</th>\n",
       "      <td>896</td>\n",
       "      <td>1</td>\n",
       "    </tr>\n",
       "  </tbody>\n",
       "</table>\n",
       "</div>"
      ],
      "text/plain": [
       "   PassengerId  Survived\n",
       "0          892         0\n",
       "1          893         1\n",
       "2          894         0\n",
       "3          895         0\n",
       "4          896         1"
      ]
     },
     "execution_count": 13,
     "metadata": {},
     "output_type": "execute_result"
    }
   ],
   "source": [
    "sample.head()"
   ]
  },
  {
   "cell_type": "code",
   "execution_count": 14,
   "id": "e3594cd9",
   "metadata": {
    "execution": {
     "iopub.execute_input": "2022-02-23T06:53:51.512909Z",
     "iopub.status.busy": "2022-02-23T06:53:51.512235Z",
     "iopub.status.idle": "2022-02-23T06:53:51.514747Z",
     "shell.execute_reply": "2022-02-23T06:53:51.515303Z",
     "shell.execute_reply.started": "2022-02-23T06:53:04.633574Z"
    },
    "papermill": {
     "duration": 0.037456,
     "end_time": "2022-02-23T06:53:51.515482",
     "exception": false,
     "start_time": "2022-02-23T06:53:51.478026",
     "status": "completed"
    },
    "tags": []
   },
   "outputs": [
    {
     "data": {
      "text/html": [
       "<div>\n",
       "<style scoped>\n",
       "    .dataframe tbody tr th:only-of-type {\n",
       "        vertical-align: middle;\n",
       "    }\n",
       "\n",
       "    .dataframe tbody tr th {\n",
       "        vertical-align: top;\n",
       "    }\n",
       "\n",
       "    .dataframe thead th {\n",
       "        text-align: right;\n",
       "    }\n",
       "</style>\n",
       "<table border=\"1\" class=\"dataframe\">\n",
       "  <thead>\n",
       "    <tr style=\"text-align: right;\">\n",
       "      <th></th>\n",
       "      <th>PassengerId</th>\n",
       "      <th>Survived</th>\n",
       "      <th>Pclass</th>\n",
       "      <th>Name</th>\n",
       "      <th>Sex</th>\n",
       "      <th>Age</th>\n",
       "      <th>SibSp</th>\n",
       "      <th>Parch</th>\n",
       "      <th>Ticket</th>\n",
       "      <th>Fare</th>\n",
       "      <th>Cabin</th>\n",
       "      <th>Embarked</th>\n",
       "    </tr>\n",
       "  </thead>\n",
       "  <tbody>\n",
       "    <tr>\n",
       "      <th>0</th>\n",
       "      <td>1</td>\n",
       "      <td>0</td>\n",
       "      <td>3</td>\n",
       "      <td>Braund, Mr. Owen Harris</td>\n",
       "      <td>male</td>\n",
       "      <td>22.0</td>\n",
       "      <td>1</td>\n",
       "      <td>0</td>\n",
       "      <td>A/5 21171</td>\n",
       "      <td>7.2500</td>\n",
       "      <td>NaN</td>\n",
       "      <td>S</td>\n",
       "    </tr>\n",
       "    <tr>\n",
       "      <th>1</th>\n",
       "      <td>2</td>\n",
       "      <td>1</td>\n",
       "      <td>1</td>\n",
       "      <td>Cumings, Mrs. John Bradley (Florence Briggs Th...</td>\n",
       "      <td>female</td>\n",
       "      <td>38.0</td>\n",
       "      <td>1</td>\n",
       "      <td>0</td>\n",
       "      <td>PC 17599</td>\n",
       "      <td>71.2833</td>\n",
       "      <td>C85</td>\n",
       "      <td>C</td>\n",
       "    </tr>\n",
       "    <tr>\n",
       "      <th>2</th>\n",
       "      <td>3</td>\n",
       "      <td>1</td>\n",
       "      <td>3</td>\n",
       "      <td>Heikkinen, Miss. Laina</td>\n",
       "      <td>female</td>\n",
       "      <td>26.0</td>\n",
       "      <td>0</td>\n",
       "      <td>0</td>\n",
       "      <td>STON/O2. 3101282</td>\n",
       "      <td>7.9250</td>\n",
       "      <td>NaN</td>\n",
       "      <td>S</td>\n",
       "    </tr>\n",
       "    <tr>\n",
       "      <th>3</th>\n",
       "      <td>4</td>\n",
       "      <td>1</td>\n",
       "      <td>1</td>\n",
       "      <td>Futrelle, Mrs. Jacques Heath (Lily May Peel)</td>\n",
       "      <td>female</td>\n",
       "      <td>35.0</td>\n",
       "      <td>1</td>\n",
       "      <td>0</td>\n",
       "      <td>113803</td>\n",
       "      <td>53.1000</td>\n",
       "      <td>C123</td>\n",
       "      <td>S</td>\n",
       "    </tr>\n",
       "    <tr>\n",
       "      <th>4</th>\n",
       "      <td>5</td>\n",
       "      <td>0</td>\n",
       "      <td>3</td>\n",
       "      <td>Allen, Mr. William Henry</td>\n",
       "      <td>male</td>\n",
       "      <td>35.0</td>\n",
       "      <td>0</td>\n",
       "      <td>0</td>\n",
       "      <td>373450</td>\n",
       "      <td>8.0500</td>\n",
       "      <td>NaN</td>\n",
       "      <td>S</td>\n",
       "    </tr>\n",
       "  </tbody>\n",
       "</table>\n",
       "</div>"
      ],
      "text/plain": [
       "   PassengerId  Survived  Pclass  \\\n",
       "0            1         0       3   \n",
       "1            2         1       1   \n",
       "2            3         1       3   \n",
       "3            4         1       1   \n",
       "4            5         0       3   \n",
       "\n",
       "                                                Name     Sex   Age  SibSp  \\\n",
       "0                            Braund, Mr. Owen Harris    male  22.0      1   \n",
       "1  Cumings, Mrs. John Bradley (Florence Briggs Th...  female  38.0      1   \n",
       "2                             Heikkinen, Miss. Laina  female  26.0      0   \n",
       "3       Futrelle, Mrs. Jacques Heath (Lily May Peel)  female  35.0      1   \n",
       "4                           Allen, Mr. William Henry    male  35.0      0   \n",
       "\n",
       "   Parch            Ticket     Fare Cabin Embarked  \n",
       "0      0         A/5 21171   7.2500   NaN        S  \n",
       "1      0          PC 17599  71.2833   C85        C  \n",
       "2      0  STON/O2. 3101282   7.9250   NaN        S  \n",
       "3      0            113803  53.1000  C123        S  \n",
       "4      0            373450   8.0500   NaN        S  "
      ]
     },
     "execution_count": 14,
     "metadata": {},
     "output_type": "execute_result"
    }
   ],
   "source": [
    "train.head()"
   ]
  },
  {
   "cell_type": "code",
   "execution_count": 15,
   "id": "bc4d73d0",
   "metadata": {
    "execution": {
     "iopub.execute_input": "2022-02-23T06:53:51.559864Z",
     "iopub.status.busy": "2022-02-23T06:53:51.559270Z",
     "iopub.status.idle": "2022-02-23T06:53:51.597470Z",
     "shell.execute_reply": "2022-02-23T06:53:51.597919Z",
     "shell.execute_reply.started": "2022-02-23T06:53:04.714525Z"
    },
    "papermill": {
     "duration": 0.0621,
     "end_time": "2022-02-23T06:53:51.598103",
     "exception": false,
     "start_time": "2022-02-23T06:53:51.536003",
     "status": "completed"
    },
    "tags": []
   },
   "outputs": [
    {
     "data": {
      "text/html": [
       "<div>\n",
       "<style scoped>\n",
       "    .dataframe tbody tr th:only-of-type {\n",
       "        vertical-align: middle;\n",
       "    }\n",
       "\n",
       "    .dataframe tbody tr th {\n",
       "        vertical-align: top;\n",
       "    }\n",
       "\n",
       "    .dataframe thead th {\n",
       "        text-align: right;\n",
       "    }\n",
       "</style>\n",
       "<table border=\"1\" class=\"dataframe\">\n",
       "  <thead>\n",
       "    <tr style=\"text-align: right;\">\n",
       "      <th></th>\n",
       "      <th>PassengerId</th>\n",
       "      <th>Survived</th>\n",
       "      <th>Pclass</th>\n",
       "      <th>Age</th>\n",
       "      <th>SibSp</th>\n",
       "      <th>Parch</th>\n",
       "      <th>Fare</th>\n",
       "    </tr>\n",
       "  </thead>\n",
       "  <tbody>\n",
       "    <tr>\n",
       "      <th>count</th>\n",
       "      <td>891.000000</td>\n",
       "      <td>891.000000</td>\n",
       "      <td>891.000000</td>\n",
       "      <td>714.000000</td>\n",
       "      <td>891.000000</td>\n",
       "      <td>891.000000</td>\n",
       "      <td>891.000000</td>\n",
       "    </tr>\n",
       "    <tr>\n",
       "      <th>mean</th>\n",
       "      <td>446.000000</td>\n",
       "      <td>0.383838</td>\n",
       "      <td>2.308642</td>\n",
       "      <td>29.699118</td>\n",
       "      <td>0.523008</td>\n",
       "      <td>0.381594</td>\n",
       "      <td>32.204208</td>\n",
       "    </tr>\n",
       "    <tr>\n",
       "      <th>std</th>\n",
       "      <td>257.353842</td>\n",
       "      <td>0.486592</td>\n",
       "      <td>0.836071</td>\n",
       "      <td>14.526497</td>\n",
       "      <td>1.102743</td>\n",
       "      <td>0.806057</td>\n",
       "      <td>49.693429</td>\n",
       "    </tr>\n",
       "    <tr>\n",
       "      <th>min</th>\n",
       "      <td>1.000000</td>\n",
       "      <td>0.000000</td>\n",
       "      <td>1.000000</td>\n",
       "      <td>0.420000</td>\n",
       "      <td>0.000000</td>\n",
       "      <td>0.000000</td>\n",
       "      <td>0.000000</td>\n",
       "    </tr>\n",
       "    <tr>\n",
       "      <th>25%</th>\n",
       "      <td>223.500000</td>\n",
       "      <td>0.000000</td>\n",
       "      <td>2.000000</td>\n",
       "      <td>20.125000</td>\n",
       "      <td>0.000000</td>\n",
       "      <td>0.000000</td>\n",
       "      <td>7.910400</td>\n",
       "    </tr>\n",
       "    <tr>\n",
       "      <th>50%</th>\n",
       "      <td>446.000000</td>\n",
       "      <td>0.000000</td>\n",
       "      <td>3.000000</td>\n",
       "      <td>28.000000</td>\n",
       "      <td>0.000000</td>\n",
       "      <td>0.000000</td>\n",
       "      <td>14.454200</td>\n",
       "    </tr>\n",
       "    <tr>\n",
       "      <th>75%</th>\n",
       "      <td>668.500000</td>\n",
       "      <td>1.000000</td>\n",
       "      <td>3.000000</td>\n",
       "      <td>38.000000</td>\n",
       "      <td>1.000000</td>\n",
       "      <td>0.000000</td>\n",
       "      <td>31.000000</td>\n",
       "    </tr>\n",
       "    <tr>\n",
       "      <th>max</th>\n",
       "      <td>891.000000</td>\n",
       "      <td>1.000000</td>\n",
       "      <td>3.000000</td>\n",
       "      <td>80.000000</td>\n",
       "      <td>8.000000</td>\n",
       "      <td>6.000000</td>\n",
       "      <td>512.329200</td>\n",
       "    </tr>\n",
       "  </tbody>\n",
       "</table>\n",
       "</div>"
      ],
      "text/plain": [
       "       PassengerId    Survived      Pclass         Age       SibSp  \\\n",
       "count   891.000000  891.000000  891.000000  714.000000  891.000000   \n",
       "mean    446.000000    0.383838    2.308642   29.699118    0.523008   \n",
       "std     257.353842    0.486592    0.836071   14.526497    1.102743   \n",
       "min       1.000000    0.000000    1.000000    0.420000    0.000000   \n",
       "25%     223.500000    0.000000    2.000000   20.125000    0.000000   \n",
       "50%     446.000000    0.000000    3.000000   28.000000    0.000000   \n",
       "75%     668.500000    1.000000    3.000000   38.000000    1.000000   \n",
       "max     891.000000    1.000000    3.000000   80.000000    8.000000   \n",
       "\n",
       "            Parch        Fare  \n",
       "count  891.000000  891.000000  \n",
       "mean     0.381594   32.204208  \n",
       "std      0.806057   49.693429  \n",
       "min      0.000000    0.000000  \n",
       "25%      0.000000    7.910400  \n",
       "50%      0.000000   14.454200  \n",
       "75%      0.000000   31.000000  \n",
       "max      6.000000  512.329200  "
      ]
     },
     "execution_count": 15,
     "metadata": {},
     "output_type": "execute_result"
    }
   ],
   "source": [
    "train.describe()"
   ]
  },
  {
   "cell_type": "code",
   "execution_count": 16,
   "id": "1b45768c",
   "metadata": {
    "execution": {
     "iopub.execute_input": "2022-02-23T06:53:51.643587Z",
     "iopub.status.busy": "2022-02-23T06:53:51.642979Z",
     "iopub.status.idle": "2022-02-23T06:53:51.971850Z",
     "shell.execute_reply": "2022-02-23T06:53:51.972472Z",
     "shell.execute_reply.started": "2022-02-23T06:53:04.756109Z"
    },
    "papermill": {
     "duration": 0.353275,
     "end_time": "2022-02-23T06:53:51.972640",
     "exception": false,
     "start_time": "2022-02-23T06:53:51.619365",
     "status": "completed"
    },
    "tags": []
   },
   "outputs": [
    {
     "data": {
      "text/plain": [
       "<Axes: >"
      ]
     },
     "execution_count": 16,
     "metadata": {},
     "output_type": "execute_result"
    },
    {
     "data": {
      "image/png": "[encoded data removed]",
      "text/plain": [
       "<Figure size 640x480 with 1 Axes>"
      ]
     },
     "metadata": {},
     "output_type": "display_data"
    }
   ],
   "source": [
    "train.plot(kind='box')"
   ]
  },
  {
   "cell_type": "code",
   "execution_count": 17,
   "id": "ae9c661d",
   "metadata": {
    "execution": {
     "iopub.execute_input": "2022-02-23T06:53:52.031683Z",
     "iopub.status.busy": "2022-02-23T06:53:52.030908Z",
     "iopub.status.idle": "2022-02-23T06:53:52.034351Z",
     "shell.execute_reply": "2022-02-23T06:53:52.034935Z",
     "shell.execute_reply.started": "2022-02-23T06:53:05.087605Z"
    },
    "papermill": {
     "duration": 0.039379,
     "end_time": "2022-02-23T06:53:52.035134",
     "exception": false,
     "start_time": "2022-02-23T06:53:51.995755",
     "status": "completed"
    },
    "tags": []
   },
   "outputs": [
    {
     "data": {
      "text/plain": [
       "PassengerId    False\n",
       "Survived       False\n",
       "Pclass         False\n",
       "Name           False\n",
       "Sex            False\n",
       "Age             True\n",
       "SibSp          False\n",
       "Parch          False\n",
       "Ticket         False\n",
       "Fare           False\n",
       "Cabin           True\n",
       "Embarked        True\n",
       "dtype: bool"
      ]
     },
     "execution_count": 17,
     "metadata": {},
     "output_type": "execute_result"
    }
   ],
   "source": [
    "train.isnull().any()"
   ]
  },
  {
   "cell_type": "code",
   "execution_count": 18,
   "id": "49006900",
   "metadata": {
    "execution": {
     "iopub.execute_input": "2022-02-23T06:53:52.097771Z",
     "iopub.status.busy": "2022-02-23T06:53:52.096884Z",
     "iopub.status.idle": "2022-02-23T06:53:52.117210Z",
     "shell.execute_reply": "2022-02-23T06:53:52.116286Z",
     "shell.execute_reply.started": "2022-02-23T06:53:05.106496Z"
    },
    "papermill": {
     "duration": 0.052636,
     "end_time": "2022-02-23T06:53:52.117361",
     "exception": false,
     "start_time": "2022-02-23T06:53:52.064725",
     "status": "completed"
    },
    "tags": []
   },
   "outputs": [
    {
     "name": "stderr",
     "output_type": "stream",
     "text": [
      "/var/folders/89/cffytmz50wjbl3q6cf2bvvs00000gn/T/ipykernel_6600/2189804198.py:1: FutureWarning: The default value of numeric_only in DataFrame.corr is deprecated. In a future version, it will default to False. Select only valid columns or specify the value of numeric_only to silence this warning.\n",
      "  train.corr()\n"
     ]
    },
    {
     "data": {
      "text/html": [
       "<div>\n",
       "<style scoped>\n",
       "    .dataframe tbody tr th:only-of-type {\n",
       "        vertical-align: middle;\n",
       "    }\n",
       "\n",
       "    .dataframe tbody tr th {\n",
       "        vertical-align: top;\n",
       "    }\n",
       "\n",
       "    .dataframe thead th {\n",
       "        text-align: right;\n",
       "    }\n",
       "</style>\n",
       "<table border=\"1\" class=\"dataframe\">\n",
       "  <thead>\n",
       "    <tr style=\"text-align: right;\">\n",
       "      <th></th>\n",
       "      <th>PassengerId</th>\n",
       "      <th>Survived</th>\n",
       "      <th>Pclass</th>\n",
       "      <th>Age</th>\n",
       "      <th>SibSp</th>\n",
       "      <th>Parch</th>\n",
       "      <th>Fare</th>\n",
       "    </tr>\n",
       "  </thead>\n",
       "  <tbody>\n",
       "    <tr>\n",
       "      <th>PassengerId</th>\n",
       "      <td>1.000000</td>\n",
       "      <td>-0.005007</td>\n",
       "      <td>-0.035144</td>\n",
       "      <td>0.036847</td>\n",
       "      <td>-0.057527</td>\n",
       "      <td>-0.001652</td>\n",
       "      <td>0.012658</td>\n",
       "    </tr>\n",
       "    <tr>\n",
       "      <th>Survived</th>\n",
       "      <td>-0.005007</td>\n",
       "      <td>1.000000</td>\n",
       "      <td>-0.338481</td>\n",
       "      <td>-0.077221</td>\n",
       "      <td>-0.035322</td>\n",
       "      <td>0.081629</td>\n",
       "      <td>0.257307</td>\n",
       "    </tr>\n",
       "    <tr>\n",
       "      <th>Pclass</th>\n",
       "      <td>-0.035144</td>\n",
       "      <td>-0.338481</td>\n",
       "      <td>1.000000</td>\n",
       "      <td>-0.369226</td>\n",
       "      <td>0.083081</td>\n",
       "      <td>0.018443</td>\n",
       "      <td>-0.549500</td>\n",
       "    </tr>\n",
       "    <tr>\n",
       "      <th>Age</th>\n",
       "      <td>0.036847</td>\n",
       "      <td>-0.077221</td>\n",
       "      <td>-0.369226</td>\n",
       "      <td>1.000000</td>\n",
       "      <td>-0.308247</td>\n",
       "      <td>-0.189119</td>\n",
       "      <td>0.096067</td>\n",
       "    </tr>\n",
       "    <tr>\n",
       "      <th>SibSp</th>\n",
       "      <td>-0.057527</td>\n",
       "      <td>-0.035322</td>\n",
       "      <td>0.083081</td>\n",
       "      <td>-0.308247</td>\n",
       "      <td>1.000000</td>\n",
       "      <td>0.414838</td>\n",
       "      <td>0.159651</td>\n",
       "    </tr>\n",
       "    <tr>\n",
       "      <th>Parch</th>\n",
       "      <td>-0.001652</td>\n",
       "      <td>0.081629</td>\n",
       "      <td>0.018443</td>\n",
       "      <td>-0.189119</td>\n",
       "      <td>0.414838</td>\n",
       "      <td>1.000000</td>\n",
       "      <td>0.216225</td>\n",
       "    </tr>\n",
       "    <tr>\n",
       "      <th>Fare</th>\n",
       "      <td>0.012658</td>\n",
       "      <td>0.257307</td>\n",
       "      <td>-0.549500</td>\n",
       "      <td>0.096067</td>\n",
       "      <td>0.159651</td>\n",
       "      <td>0.216225</td>\n",
       "      <td>1.000000</td>\n",
       "    </tr>\n",
       "  </tbody>\n",
       "</table>\n",
       "</div>"
      ],
      "text/plain": [
       "             PassengerId  Survived    Pclass       Age     SibSp     Parch  \\\n",
       "PassengerId     1.000000 -0.005007 -0.035144  0.036847 -0.057527 -0.001652   \n",
       "Survived       -0.005007  1.000000 -0.338481 -0.077221 -0.035322  0.081629   \n",
       "Pclass         -0.035144 -0.338481  1.000000 -0.369226  0.083081  0.018443   \n",
       "Age             0.036847 -0.077221 -0.369226  1.000000 -0.308247 -0.189119   \n",
       "SibSp          -0.057527 -0.035322  0.083081 -0.308247  1.000000  0.414838   \n",
       "Parch          -0.001652  0.081629  0.018443 -0.189119  0.414838  1.000000   \n",
       "Fare            0.012658  0.257307 -0.549500  0.096067  0.159651  0.216225   \n",
       "\n",
       "                 Fare  \n",
       "PassengerId  0.012658  \n",
       "Survived     0.257307  \n",
       "Pclass      -0.549500  \n",
       "Age          0.096067  \n",
       "SibSp        0.159651  \n",
       "Parch        0.216225  \n",
       "Fare         1.000000  "
      ]
     },
     "execution_count": 18,
     "metadata": {},
     "output_type": "execute_result"
    }
   ],
   "source": [
    "train.corr()"
   ]
  },
  {
   "cell_type": "code",
   "execution_count": 19,
   "id": "df1dd189",
   "metadata": {
    "execution": {
     "iopub.execute_input": "2022-02-23T06:53:52.167785Z",
     "iopub.status.busy": "2022-02-23T06:53:52.166934Z",
     "iopub.status.idle": "2022-02-23T06:53:52.491360Z",
     "shell.execute_reply": "2022-02-23T06:53:52.491836Z",
     "shell.execute_reply.started": "2022-02-23T06:53:05.127347Z"
    },
    "papermill": {
     "duration": 0.351249,
     "end_time": "2022-02-23T06:53:52.491996",
     "exception": false,
     "start_time": "2022-02-23T06:53:52.140747",
     "status": "completed"
    },
    "tags": []
   },
   "outputs": [
    {
     "name": "stderr",
     "output_type": "stream",
     "text": [
      "/var/folders/89/cffytmz50wjbl3q6cf2bvvs00000gn/T/ipykernel_6600/1524494364.py:1: FutureWarning: The default value of numeric_only in DataFrame.corr is deprecated. In a future version, it will default to False. Select only valid columns or specify the value of numeric_only to silence this warning.\n",
      "  sns.heatmap(train.corr())\n"
     ]
    },
    {
     "data": {
      "text/plain": [
       "<Axes: >"
      ]
     },
     "execution_count": 19,
     "metadata": {},
     "output_type": "execute_result"
    },
    {
     "data": {
      "image/png": "[encoded data removed]",
      "text/plain": [
       "<Figure size 640x480 with 2 Axes>"
      ]
     },
     "metadata": {},
     "output_type": "display_data"
    }
   ],
   "source": [
    "sns.heatmap(train.corr())"
   ]
  },
  {
   "cell_type": "markdown",
   "id": "5bf99208",
   "metadata": {
    "papermill": {
     "duration": 0.024236,
     "end_time": "2022-02-23T06:53:52.540486",
     "exception": false,
     "start_time": "2022-02-23T06:53:52.516250",
     "status": "completed"
    },
    "tags": []
   },
   "source": [
    "# Preprocessing"
   ]
  },
  {
   "cell_type": "code",
   "execution_count": 20,
   "id": "eb10284c",
   "metadata": {
    "execution": {
     "iopub.execute_input": "2022-02-23T06:53:52.592418Z",
     "iopub.status.busy": "2022-02-23T06:53:52.591529Z",
     "iopub.status.idle": "2022-02-23T06:53:52.596711Z",
     "shell.execute_reply": "2022-02-23T06:53:52.597270Z",
     "shell.execute_reply.started": "2022-02-23T06:53:05.501331Z"
    },
    "papermill": {
     "duration": 0.032588,
     "end_time": "2022-02-23T06:53:52.597422",
     "exception": false,
     "start_time": "2022-02-23T06:53:52.564834",
     "status": "completed"
    },
    "tags": []
   },
   "outputs": [],
   "source": [
    "train_x = train.drop(\"Survived\", axis=1)\n",
    "train_y = train[\"Survived\"]\n",
    "test_x  = test"
   ]
  },
  {
   "cell_type": "code",
   "execution_count": 21,
   "id": "cfa2aea6",
   "metadata": {
    "execution": {
     "iopub.execute_input": "2022-02-23T06:53:52.649788Z",
     "iopub.status.busy": "2022-02-23T06:53:52.648844Z",
     "iopub.status.idle": "2022-02-23T06:53:52.654746Z",
     "shell.execute_reply": "2022-02-23T06:53:52.655322Z",
     "shell.execute_reply.started": "2022-02-23T06:53:05.511350Z"
    },
    "papermill": {
     "duration": 0.033849,
     "end_time": "2022-02-23T06:53:52.655478",
     "exception": false,
     "start_time": "2022-02-23T06:53:52.621629",
     "status": "completed"
    },
    "tags": []
   },
   "outputs": [],
   "source": [
    "# remove PassebgerId, Name, Ticket, Cabin\n",
    "train_x = train_x.drop([\"PassengerId\", \"Name\", \"Ticket\", \"Cabin\"], axis=1)\n",
    "test_x  = test_x.drop([\"PassengerId\", \"Name\", \"Ticket\", \"Cabin\"], axis=1)"
   ]
  },
  {
   "cell_type": "code",
   "execution_count": 22,
   "id": "e083c021",
   "metadata": {
    "execution": {
     "iopub.execute_input": "2022-02-23T06:53:52.706737Z",
     "iopub.status.busy": "2022-02-23T06:53:52.705792Z",
     "iopub.status.idle": "2022-02-23T06:53:52.830570Z",
     "shell.execute_reply": "2022-02-23T06:53:52.829864Z",
     "shell.execute_reply.started": "2022-02-23T06:53:05.528940Z"
    },
    "papermill": {
     "duration": 0.151059,
     "end_time": "2022-02-23T06:53:52.830710",
     "exception": false,
     "start_time": "2022-02-23T06:53:52.679651",
     "status": "completed"
    },
    "tags": []
   },
   "outputs": [],
   "source": [
    "# Fill NA\n",
    "train[\"Age\"] = train[\"Age\"].fillna(train[\"Age\"].median())\n",
    "train[\"Embarked\"] = train[\"Embarked\"].fillna(\"S\")\n",
    "\n",
    "# label encoding(str -> int)\n",
    "from sklearn.preprocessing import LabelEncoder\n",
    "for c in [\"Sex\", \"Embarked\"]:\n",
    "    le = LabelEncoder()\n",
    "    le.fit(train_x[c].fillna(\"NA\"))\n",
    "    train_x[c] = le.transform(train_x[c].fillna(\"NA\"))\n",
    "    test_x[c]  = le.transform(test_x[c].fillna(\"NA\"))"
   ]
  },
  {
   "cell_type": "markdown",
   "id": "59cd5f5d",
   "metadata": {
    "papermill": {
     "duration": 0.023754,
     "end_time": "2022-02-23T06:53:52.877858",
     "exception": false,
     "start_time": "2022-02-23T06:53:52.854104",
     "status": "completed"
    },
    "tags": []
   },
   "source": [
    "# Model Tunning"
   ]
  },
  {
   "cell_type": "code",
   "execution_count": 23,
   "id": "43ed18b7",
   "metadata": {
    "execution": {
     "iopub.execute_input": "2022-02-23T06:53:52.929617Z",
     "iopub.status.busy": "2022-02-23T06:53:52.928633Z",
     "iopub.status.idle": "2022-02-23T06:53:53.051109Z",
     "shell.execute_reply": "2022-02-23T06:53:53.050563Z",
     "shell.execute_reply.started": "2022-02-23T06:53:05.552642Z"
    },
    "papermill": {
     "duration": 0.14937,
     "end_time": "2022-02-23T06:53:53.051242",
     "exception": false,
     "start_time": "2022-02-23T06:53:52.901872",
     "status": "completed"
    },
    "tags": []
   },
   "outputs": [],
   "source": [
    "import itertools\n",
    "from sklearn.metrics import log_loss, accuracy_score\n",
    "from sklearn.model_selection import KFold\n",
    "from xgboost import XGBClassifier"
   ]
  },
  {
   "cell_type": "code",
   "execution_count": 24,
   "id": "9762ed42",
   "metadata": {
    "execution": {
     "iopub.execute_input": "2022-02-23T06:53:53.104494Z",
     "iopub.status.busy": "2022-02-23T06:53:53.103486Z",
     "iopub.status.idle": "2022-02-23T06:53:53.215643Z",
     "shell.execute_reply": "2022-02-23T06:53:53.215053Z",
     "shell.execute_reply.started": "2022-02-23T06:53:05.571262Z"
    },
    "papermill": {
     "duration": 0.139784,
     "end_time": "2022-02-23T06:53:53.215774",
     "exception": false,
     "start_time": "2022-02-23T06:53:53.075990",
     "status": "completed"
    },
    "tags": []
   },
   "outputs": [],
   "source": [
    "# parameters\n",
    "param = {\n",
    "    \"max_depth\":[3,5,7,9],\n",
    "    \"min_child_weight\":[1, 2, 4,6]\n",
    "}\n",
    "\n",
    "param_comb = itertools.product(param[\"max_depth\"], param[\"min_child_weight\"])"
   ]
  },
  {
   "cell_type": "code",
   "execution_count": 25,
   "id": "ad89a6d3",
   "metadata": {
    "execution": {
     "iopub.execute_input": "2022-02-23T06:53:53.278003Z",
     "iopub.status.busy": "2022-02-23T06:53:53.271876Z",
     "iopub.status.idle": "2022-02-23T06:53:57.704275Z",
     "shell.execute_reply": "2022-02-23T06:53:57.704873Z",
     "shell.execute_reply.started": "2022-02-23T06:53:05.586352Z"
    },
    "papermill": {
     "duration": 4.465532,
     "end_time": "2022-02-23T06:53:57.705102",
     "exception": false,
     "start_time": "2022-02-23T06:53:53.239570",
     "status": "completed"
    },
    "tags": []
   },
   "outputs": [
    {
     "name": "stderr",
     "output_type": "stream",
     "text": [
      "/Users/yuhi-sa/.anyenv/envs/pyenv/versions/3.10.4/lib/python3.10/site-packages/xgboost/sklearn.py:1395: UserWarning: `use_label_encoder` is deprecated in 1.7.0.\n",
      "  warnings.warn(\"`use_label_encoder` is deprecated in 1.7.0.\")\n",
      "/Users/yuhi-sa/.anyenv/envs/pyenv/versions/3.10.4/lib/python3.10/site-packages/xgboost/sklearn.py:835: UserWarning: `eval_metric` in `fit` method is deprecated for better compatibility with scikit-learn, use `eval_metric` in constructor or`set_params` instead.\n",
      "  warnings.warn(\n",
      "/Users/yuhi-sa/.anyenv/envs/pyenv/versions/3.10.4/lib/python3.10/site-packages/xgboost/sklearn.py:1395: UserWarning: `use_label_encoder` is deprecated in 1.7.0.\n",
      "  warnings.warn(\"`use_label_encoder` is deprecated in 1.7.0.\")\n",
      "/Users/yuhi-sa/.anyenv/envs/pyenv/versions/3.10.4/lib/python3.10/site-packages/xgboost/sklearn.py:835: UserWarning: `eval_metric` in `fit` method is deprecated for better compatibility with scikit-learn, use `eval_metric` in constructor or`set_params` instead.\n",
      "  warnings.warn(\n",
      "/Users/yuhi-sa/.anyenv/envs/pyenv/versions/3.10.4/lib/python3.10/site-packages/xgboost/sklearn.py:1395: UserWarning: `use_label_encoder` is deprecated in 1.7.0.\n",
      "  warnings.warn(\"`use_label_encoder` is deprecated in 1.7.0.\")\n",
      "/Users/yuhi-sa/.anyenv/envs/pyenv/versions/3.10.4/lib/python3.10/site-packages/xgboost/sklearn.py:835: UserWarning: `eval_metric` in `fit` method is deprecated for better compatibility with scikit-learn, use `eval_metric` in constructor or`set_params` instead.\n",
      "  warnings.warn(\n",
      "/Users/yuhi-sa/.anyenv/envs/pyenv/versions/3.10.4/lib/python3.10/site-packages/xgboost/sklearn.py:1395: UserWarning: `use_label_encoder` is deprecated in 1.7.0.\n",
      "  warnings.warn(\"`use_label_encoder` is deprecated in 1.7.0.\")\n",
      "/Users/yuhi-sa/.anyenv/envs/pyenv/versions/3.10.4/lib/python3.10/site-packages/xgboost/sklearn.py:835: UserWarning: `eval_metric` in `fit` method is deprecated for better compatibility with scikit-learn, use `eval_metric` in constructor or`set_params` instead.\n",
      "  warnings.warn(\n",
      "/var/folders/89/cffytmz50wjbl3q6cf2bvvs00000gn/T/ipykernel_6600/4011832649.py:24: FutureWarning: The frame.append method is deprecated and will be removed from pandas in a future version. Use pandas.concat instead.\n",
      "  df = df.append(addRow, ignore_index=True)\n",
      "/Users/yuhi-sa/.anyenv/envs/pyenv/versions/3.10.4/lib/python3.10/site-packages/xgboost/sklearn.py:1395: UserWarning: `use_label_encoder` is deprecated in 1.7.0.\n",
      "  warnings.warn(\"`use_label_encoder` is deprecated in 1.7.0.\")\n",
      "/Users/yuhi-sa/.anyenv/envs/pyenv/versions/3.10.4/lib/python3.10/site-packages/xgboost/sklearn.py:835: UserWarning: `eval_metric` in `fit` method is deprecated for better compatibility with scikit-learn, use `eval_metric` in constructor or`set_params` instead.\n",
      "  warnings.warn(\n",
      "/Users/yuhi-sa/.anyenv/envs/pyenv/versions/3.10.4/lib/python3.10/site-packages/xgboost/sklearn.py:1395: UserWarning: `use_label_encoder` is deprecated in 1.7.0.\n",
      "  warnings.warn(\"`use_label_encoder` is deprecated in 1.7.0.\")\n",
      "/Users/yuhi-sa/.anyenv/envs/pyenv/versions/3.10.4/lib/python3.10/site-packages/xgboost/sklearn.py:835: UserWarning: `eval_metric` in `fit` method is deprecated for better compatibility with scikit-learn, use `eval_metric` in constructor or`set_params` instead.\n",
      "  warnings.warn(\n",
      "/Users/yuhi-sa/.anyenv/envs/pyenv/versions/3.10.4/lib/python3.10/site-packages/xgboost/sklearn.py:1395: UserWarning: `use_label_encoder` is deprecated in 1.7.0.\n",
      "  warnings.warn(\"`use_label_encoder` is deprecated in 1.7.0.\")\n",
      "/Users/yuhi-sa/.anyenv/envs/pyenv/versions/3.10.4/lib/python3.10/site-packages/xgboost/sklearn.py:835: UserWarning: `eval_metric` in `fit` method is deprecated for better compatibility with scikit-learn, use `eval_metric` in constructor or`set_params` instead.\n",
      "  warnings.warn(\n",
      "/Users/yuhi-sa/.anyenv/envs/pyenv/versions/3.10.4/lib/python3.10/site-packages/xgboost/sklearn.py:1395: UserWarning: `use_label_encoder` is deprecated in 1.7.0.\n",
      "  warnings.warn(\"`use_label_encoder` is deprecated in 1.7.0.\")\n",
      "/Users/yuhi-sa/.anyenv/envs/pyenv/versions/3.10.4/lib/python3.10/site-packages/xgboost/sklearn.py:835: UserWarning: `eval_metric` in `fit` method is deprecated for better compatibility with scikit-learn, use `eval_metric` in constructor or`set_params` instead.\n",
      "  warnings.warn(\n",
      "/var/folders/89/cffytmz50wjbl3q6cf2bvvs00000gn/T/ipykernel_6600/4011832649.py:24: FutureWarning: The frame.append method is deprecated and will be removed from pandas in a future version. Use pandas.concat instead.\n",
      "  df = df.append(addRow, ignore_index=True)\n",
      "/Users/yuhi-sa/.anyenv/envs/pyenv/versions/3.10.4/lib/python3.10/site-packages/xgboost/sklearn.py:1395: UserWarning: `use_label_encoder` is deprecated in 1.7.0.\n",
      "  warnings.warn(\"`use_label_encoder` is deprecated in 1.7.0.\")\n",
      "/Users/yuhi-sa/.anyenv/envs/pyenv/versions/3.10.4/lib/python3.10/site-packages/xgboost/sklearn.py:835: UserWarning: `eval_metric` in `fit` method is deprecated for better compatibility with scikit-learn, use `eval_metric` in constructor or`set_params` instead.\n",
      "  warnings.warn(\n",
      "/Users/yuhi-sa/.anyenv/envs/pyenv/versions/3.10.4/lib/python3.10/site-packages/xgboost/sklearn.py:1395: UserWarning: `use_label_encoder` is deprecated in 1.7.0.\n",
      "  warnings.warn(\"`use_label_encoder` is deprecated in 1.7.0.\")\n",
      "/Users/yuhi-sa/.anyenv/envs/pyenv/versions/3.10.4/lib/python3.10/site-packages/xgboost/sklearn.py:835: UserWarning: `eval_metric` in `fit` method is deprecated for better compatibility with scikit-learn, use `eval_metric` in constructor or`set_params` instead.\n",
      "  warnings.warn(\n",
      "/Users/yuhi-sa/.anyenv/envs/pyenv/versions/3.10.4/lib/python3.10/site-packages/xgboost/sklearn.py:1395: UserWarning: `use_label_encoder` is deprecated in 1.7.0.\n",
      "  warnings.warn(\"`use_label_encoder` is deprecated in 1.7.0.\")\n",
      "/Users/yuhi-sa/.anyenv/envs/pyenv/versions/3.10.4/lib/python3.10/site-packages/xgboost/sklearn.py:835: UserWarning: `eval_metric` in `fit` method is deprecated for better compatibility with scikit-learn, use `eval_metric` in constructor or`set_params` instead.\n",
      "  warnings.warn(\n",
      "/Users/yuhi-sa/.anyenv/envs/pyenv/versions/3.10.4/lib/python3.10/site-packages/xgboost/sklearn.py:1395: UserWarning: `use_label_encoder` is deprecated in 1.7.0.\n",
      "  warnings.warn(\"`use_label_encoder` is deprecated in 1.7.0.\")\n",
      "/Users/yuhi-sa/.anyenv/envs/pyenv/versions/3.10.4/lib/python3.10/site-packages/xgboost/sklearn.py:835: UserWarning: `eval_metric` in `fit` method is deprecated for better compatibility with scikit-learn, use `eval_metric` in constructor or`set_params` instead.\n",
      "  warnings.warn(\n",
      "/var/folders/89/cffytmz50wjbl3q6cf2bvvs00000gn/T/ipykernel_6600/4011832649.py:24: FutureWarning: The frame.append method is deprecated and will be removed from pandas in a future version. Use pandas.concat instead.\n",
      "  df = df.append(addRow, ignore_index=True)\n",
      "/Users/yuhi-sa/.anyenv/envs/pyenv/versions/3.10.4/lib/python3.10/site-packages/xgboost/sklearn.py:1395: UserWarning: `use_label_encoder` is deprecated in 1.7.0.\n",
      "  warnings.warn(\"`use_label_encoder` is deprecated in 1.7.0.\")\n",
      "/Users/yuhi-sa/.anyenv/envs/pyenv/versions/3.10.4/lib/python3.10/site-packages/xgboost/sklearn.py:835: UserWarning: `eval_metric` in `fit` method is deprecated for better compatibility with scikit-learn, use `eval_metric` in constructor or`set_params` instead.\n",
      "  warnings.warn(\n",
      "/Users/yuhi-sa/.anyenv/envs/pyenv/versions/3.10.4/lib/python3.10/site-packages/xgboost/sklearn.py:1395: UserWarning: `use_label_encoder` is deprecated in 1.7.0.\n",
      "  warnings.warn(\"`use_label_encoder` is deprecated in 1.7.0.\")\n",
      "/Users/yuhi-sa/.anyenv/envs/pyenv/versions/3.10.4/lib/python3.10/site-packages/xgboost/sklearn.py:835: UserWarning: `eval_metric` in `fit` method is deprecated for better compatibility with scikit-learn, use `eval_metric` in constructor or`set_params` instead.\n",
      "  warnings.warn(\n",
      "/Users/yuhi-sa/.anyenv/envs/pyenv/versions/3.10.4/lib/python3.10/site-packages/xgboost/sklearn.py:1395: UserWarning: `use_label_encoder` is deprecated in 1.7.0.\n",
      "  warnings.warn(\"`use_label_encoder` is deprecated in 1.7.0.\")\n",
      "/Users/yuhi-sa/.anyenv/envs/pyenv/versions/3.10.4/lib/python3.10/site-packages/xgboost/sklearn.py:835: UserWarning: `eval_metric` in `fit` method is deprecated for better compatibility with scikit-learn, use `eval_metric` in constructor or`set_params` instead.\n",
      "  warnings.warn(\n",
      "/Users/yuhi-sa/.anyenv/envs/pyenv/versions/3.10.4/lib/python3.10/site-packages/xgboost/sklearn.py:1395: UserWarning: `use_label_encoder` is deprecated in 1.7.0.\n",
      "  warnings.warn(\"`use_label_encoder` is deprecated in 1.7.0.\")\n",
      "/Users/yuhi-sa/.anyenv/envs/pyenv/versions/3.10.4/lib/python3.10/site-packages/xgboost/sklearn.py:835: UserWarning: `eval_metric` in `fit` method is deprecated for better compatibility with scikit-learn, use `eval_metric` in constructor or`set_params` instead.\n",
      "  warnings.warn(\n",
      "/var/folders/89/cffytmz50wjbl3q6cf2bvvs00000gn/T/ipykernel_6600/4011832649.py:24: FutureWarning: The frame.append method is deprecated and will be removed from pandas in a future version. Use pandas.concat instead.\n",
      "  df = df.append(addRow, ignore_index=True)\n",
      "/Users/yuhi-sa/.anyenv/envs/pyenv/versions/3.10.4/lib/python3.10/site-packages/xgboost/sklearn.py:1395: UserWarning: `use_label_encoder` is deprecated in 1.7.0.\n",
      "  warnings.warn(\"`use_label_encoder` is deprecated in 1.7.0.\")\n",
      "/Users/yuhi-sa/.anyenv/envs/pyenv/versions/3.10.4/lib/python3.10/site-packages/xgboost/sklearn.py:835: UserWarning: `eval_metric` in `fit` method is deprecated for better compatibility with scikit-learn, use `eval_metric` in constructor or`set_params` instead.\n",
      "  warnings.warn(\n",
      "/Users/yuhi-sa/.anyenv/envs/pyenv/versions/3.10.4/lib/python3.10/site-packages/xgboost/sklearn.py:1395: UserWarning: `use_label_encoder` is deprecated in 1.7.0.\n",
      "  warnings.warn(\"`use_label_encoder` is deprecated in 1.7.0.\")\n",
      "/Users/yuhi-sa/.anyenv/envs/pyenv/versions/3.10.4/lib/python3.10/site-packages/xgboost/sklearn.py:835: UserWarning: `eval_metric` in `fit` method is deprecated for better compatibility with scikit-learn, use `eval_metric` in constructor or`set_params` instead.\n",
      "  warnings.warn(\n",
      "/Users/yuhi-sa/.anyenv/envs/pyenv/versions/3.10.4/lib/python3.10/site-packages/xgboost/sklearn.py:1395: UserWarning: `use_label_encoder` is deprecated in 1.7.0.\n",
      "  warnings.warn(\"`use_label_encoder` is deprecated in 1.7.0.\")\n",
      "/Users/yuhi-sa/.anyenv/envs/pyenv/versions/3.10.4/lib/python3.10/site-packages/xgboost/sklearn.py:835: UserWarning: `eval_metric` in `fit` method is deprecated for better compatibility with scikit-learn, use `eval_metric` in constructor or`set_params` instead.\n",
      "  warnings.warn(\n",
      "/Users/yuhi-sa/.anyenv/envs/pyenv/versions/3.10.4/lib/python3.10/site-packages/xgboost/sklearn.py:1395: UserWarning: `use_label_encoder` is deprecated in 1.7.0.\n",
      "  warnings.warn(\"`use_label_encoder` is deprecated in 1.7.0.\")\n",
      "/Users/yuhi-sa/.anyenv/envs/pyenv/versions/3.10.4/lib/python3.10/site-packages/xgboost/sklearn.py:835: UserWarning: `eval_metric` in `fit` method is deprecated for better compatibility with scikit-learn, use `eval_metric` in constructor or`set_params` instead.\n",
      "  warnings.warn(\n",
      "/var/folders/89/cffytmz50wjbl3q6cf2bvvs00000gn/T/ipykernel_6600/4011832649.py:24: FutureWarning: The frame.append method is deprecated and will be removed from pandas in a future version. Use pandas.concat instead.\n",
      "  df = df.append(addRow, ignore_index=True)\n",
      "/Users/yuhi-sa/.anyenv/envs/pyenv/versions/3.10.4/lib/python3.10/site-packages/xgboost/sklearn.py:1395: UserWarning: `use_label_encoder` is deprecated in 1.7.0.\n",
      "  warnings.warn(\"`use_label_encoder` is deprecated in 1.7.0.\")\n",
      "/Users/yuhi-sa/.anyenv/envs/pyenv/versions/3.10.4/lib/python3.10/site-packages/xgboost/sklearn.py:835: UserWarning: `eval_metric` in `fit` method is deprecated for better compatibility with scikit-learn, use `eval_metric` in constructor or`set_params` instead.\n",
      "  warnings.warn(\n",
      "/Users/yuhi-sa/.anyenv/envs/pyenv/versions/3.10.4/lib/python3.10/site-packages/xgboost/sklearn.py:1395: UserWarning: `use_label_encoder` is deprecated in 1.7.0.\n",
      "  warnings.warn(\"`use_label_encoder` is deprecated in 1.7.0.\")\n",
      "/Users/yuhi-sa/.anyenv/envs/pyenv/versions/3.10.4/lib/python3.10/site-packages/xgboost/sklearn.py:835: UserWarning: `eval_metric` in `fit` method is deprecated for better compatibility with scikit-learn, use `eval_metric` in constructor or`set_params` instead.\n",
      "  warnings.warn(\n",
      "/Users/yuhi-sa/.anyenv/envs/pyenv/versions/3.10.4/lib/python3.10/site-packages/xgboost/sklearn.py:1395: UserWarning: `use_label_encoder` is deprecated in 1.7.0.\n",
      "  warnings.warn(\"`use_label_encoder` is deprecated in 1.7.0.\")\n",
      "/Users/yuhi-sa/.anyenv/envs/pyenv/versions/3.10.4/lib/python3.10/site-packages/xgboost/sklearn.py:835: UserWarning: `eval_metric` in `fit` method is deprecated for better compatibility with scikit-learn, use `eval_metric` in constructor or`set_params` instead.\n",
      "  warnings.warn(\n",
      "/Users/yuhi-sa/.anyenv/envs/pyenv/versions/3.10.4/lib/python3.10/site-packages/xgboost/sklearn.py:1395: UserWarning: `use_label_encoder` is deprecated in 1.7.0.\n",
      "  warnings.warn(\"`use_label_encoder` is deprecated in 1.7.0.\")\n",
      "/Users/yuhi-sa/.anyenv/envs/pyenv/versions/3.10.4/lib/python3.10/site-packages/xgboost/sklearn.py:835: UserWarning: `eval_metric` in `fit` method is deprecated for better compatibility with scikit-learn, use `eval_metric` in constructor or`set_params` instead.\n",
      "  warnings.warn(\n",
      "/var/folders/89/cffytmz50wjbl3q6cf2bvvs00000gn/T/ipykernel_6600/4011832649.py:24: FutureWarning: The frame.append method is deprecated and will be removed from pandas in a future version. Use pandas.concat instead.\n",
      "  df = df.append(addRow, ignore_index=True)\n",
      "/Users/yuhi-sa/.anyenv/envs/pyenv/versions/3.10.4/lib/python3.10/site-packages/xgboost/sklearn.py:1395: UserWarning: `use_label_encoder` is deprecated in 1.7.0.\n",
      "  warnings.warn(\"`use_label_encoder` is deprecated in 1.7.0.\")\n",
      "/Users/yuhi-sa/.anyenv/envs/pyenv/versions/3.10.4/lib/python3.10/site-packages/xgboost/sklearn.py:835: UserWarning: `eval_metric` in `fit` method is deprecated for better compatibility with scikit-learn, use `eval_metric` in constructor or`set_params` instead.\n",
      "  warnings.warn(\n",
      "/Users/yuhi-sa/.anyenv/envs/pyenv/versions/3.10.4/lib/python3.10/site-packages/xgboost/sklearn.py:1395: UserWarning: `use_label_encoder` is deprecated in 1.7.0.\n",
      "  warnings.warn(\"`use_label_encoder` is deprecated in 1.7.0.\")\n",
      "/Users/yuhi-sa/.anyenv/envs/pyenv/versions/3.10.4/lib/python3.10/site-packages/xgboost/sklearn.py:835: UserWarning: `eval_metric` in `fit` method is deprecated for better compatibility with scikit-learn, use `eval_metric` in constructor or`set_params` instead.\n",
      "  warnings.warn(\n",
      "/Users/yuhi-sa/.anyenv/envs/pyenv/versions/3.10.4/lib/python3.10/site-packages/xgboost/sklearn.py:1395: UserWarning: `use_label_encoder` is deprecated in 1.7.0.\n",
      "  warnings.warn(\"`use_label_encoder` is deprecated in 1.7.0.\")\n",
      "/Users/yuhi-sa/.anyenv/envs/pyenv/versions/3.10.4/lib/python3.10/site-packages/xgboost/sklearn.py:835: UserWarning: `eval_metric` in `fit` method is deprecated for better compatibility with scikit-learn, use `eval_metric` in constructor or`set_params` instead.\n",
      "  warnings.warn(\n",
      "/Users/yuhi-sa/.anyenv/envs/pyenv/versions/3.10.4/lib/python3.10/site-packages/xgboost/sklearn.py:1395: UserWarning: `use_label_encoder` is deprecated in 1.7.0.\n",
      "  warnings.warn(\"`use_label_encoder` is deprecated in 1.7.0.\")\n",
      "/Users/yuhi-sa/.anyenv/envs/pyenv/versions/3.10.4/lib/python3.10/site-packages/xgboost/sklearn.py:835: UserWarning: `eval_metric` in `fit` method is deprecated for better compatibility with scikit-learn, use `eval_metric` in constructor or`set_params` instead.\n",
      "  warnings.warn(\n",
      "/var/folders/89/cffytmz50wjbl3q6cf2bvvs00000gn/T/ipykernel_6600/4011832649.py:24: FutureWarning: The frame.append method is deprecated and will be removed from pandas in a future version. Use pandas.concat instead.\n",
      "  df = df.append(addRow, ignore_index=True)\n",
      "/Users/yuhi-sa/.anyenv/envs/pyenv/versions/3.10.4/lib/python3.10/site-packages/xgboost/sklearn.py:1395: UserWarning: `use_label_encoder` is deprecated in 1.7.0.\n",
      "  warnings.warn(\"`use_label_encoder` is deprecated in 1.7.0.\")\n",
      "/Users/yuhi-sa/.anyenv/envs/pyenv/versions/3.10.4/lib/python3.10/site-packages/xgboost/sklearn.py:835: UserWarning: `eval_metric` in `fit` method is deprecated for better compatibility with scikit-learn, use `eval_metric` in constructor or`set_params` instead.\n",
      "  warnings.warn(\n",
      "/Users/yuhi-sa/.anyenv/envs/pyenv/versions/3.10.4/lib/python3.10/site-packages/xgboost/sklearn.py:1395: UserWarning: `use_label_encoder` is deprecated in 1.7.0.\n",
      "  warnings.warn(\"`use_label_encoder` is deprecated in 1.7.0.\")\n",
      "/Users/yuhi-sa/.anyenv/envs/pyenv/versions/3.10.4/lib/python3.10/site-packages/xgboost/sklearn.py:835: UserWarning: `eval_metric` in `fit` method is deprecated for better compatibility with scikit-learn, use `eval_metric` in constructor or`set_params` instead.\n",
      "  warnings.warn(\n",
      "/Users/yuhi-sa/.anyenv/envs/pyenv/versions/3.10.4/lib/python3.10/site-packages/xgboost/sklearn.py:1395: UserWarning: `use_label_encoder` is deprecated in 1.7.0.\n",
      "  warnings.warn(\"`use_label_encoder` is deprecated in 1.7.0.\")\n",
      "/Users/yuhi-sa/.anyenv/envs/pyenv/versions/3.10.4/lib/python3.10/site-packages/xgboost/sklearn.py:835: UserWarning: `eval_metric` in `fit` method is deprecated for better compatibility with scikit-learn, use `eval_metric` in constructor or`set_params` instead.\n",
      "  warnings.warn(\n",
      "/Users/yuhi-sa/.anyenv/envs/pyenv/versions/3.10.4/lib/python3.10/site-packages/xgboost/sklearn.py:1395: UserWarning: `use_label_encoder` is deprecated in 1.7.0.\n",
      "  warnings.warn(\"`use_label_encoder` is deprecated in 1.7.0.\")\n",
      "/Users/yuhi-sa/.anyenv/envs/pyenv/versions/3.10.4/lib/python3.10/site-packages/xgboost/sklearn.py:835: UserWarning: `eval_metric` in `fit` method is deprecated for better compatibility with scikit-learn, use `eval_metric` in constructor or`set_params` instead.\n",
      "  warnings.warn(\n",
      "/var/folders/89/cffytmz50wjbl3q6cf2bvvs00000gn/T/ipykernel_6600/4011832649.py:24: FutureWarning: The frame.append method is deprecated and will be removed from pandas in a future version. Use pandas.concat instead.\n",
      "  df = df.append(addRow, ignore_index=True)\n",
      "/Users/yuhi-sa/.anyenv/envs/pyenv/versions/3.10.4/lib/python3.10/site-packages/xgboost/sklearn.py:1395: UserWarning: `use_label_encoder` is deprecated in 1.7.0.\n",
      "  warnings.warn(\"`use_label_encoder` is deprecated in 1.7.0.\")\n",
      "/Users/yuhi-sa/.anyenv/envs/pyenv/versions/3.10.4/lib/python3.10/site-packages/xgboost/sklearn.py:835: UserWarning: `eval_metric` in `fit` method is deprecated for better compatibility with scikit-learn, use `eval_metric` in constructor or`set_params` instead.\n",
      "  warnings.warn(\n",
      "/Users/yuhi-sa/.anyenv/envs/pyenv/versions/3.10.4/lib/python3.10/site-packages/xgboost/sklearn.py:1395: UserWarning: `use_label_encoder` is deprecated in 1.7.0.\n",
      "  warnings.warn(\"`use_label_encoder` is deprecated in 1.7.0.\")\n",
      "/Users/yuhi-sa/.anyenv/envs/pyenv/versions/3.10.4/lib/python3.10/site-packages/xgboost/sklearn.py:835: UserWarning: `eval_metric` in `fit` method is deprecated for better compatibility with scikit-learn, use `eval_metric` in constructor or`set_params` instead.\n",
      "  warnings.warn(\n",
      "/Users/yuhi-sa/.anyenv/envs/pyenv/versions/3.10.4/lib/python3.10/site-packages/xgboost/sklearn.py:1395: UserWarning: `use_label_encoder` is deprecated in 1.7.0.\n",
      "  warnings.warn(\"`use_label_encoder` is deprecated in 1.7.0.\")\n",
      "/Users/yuhi-sa/.anyenv/envs/pyenv/versions/3.10.4/lib/python3.10/site-packages/xgboost/sklearn.py:835: UserWarning: `eval_metric` in `fit` method is deprecated for better compatibility with scikit-learn, use `eval_metric` in constructor or`set_params` instead.\n",
      "  warnings.warn(\n",
      "/Users/yuhi-sa/.anyenv/envs/pyenv/versions/3.10.4/lib/python3.10/site-packages/xgboost/sklearn.py:1395: UserWarning: `use_label_encoder` is deprecated in 1.7.0.\n",
      "  warnings.warn(\"`use_label_encoder` is deprecated in 1.7.0.\")\n",
      "/Users/yuhi-sa/.anyenv/envs/pyenv/versions/3.10.4/lib/python3.10/site-packages/xgboost/sklearn.py:835: UserWarning: `eval_metric` in `fit` method is deprecated for better compatibility with scikit-learn, use `eval_metric` in constructor or`set_params` instead.\n",
      "  warnings.warn(\n",
      "/var/folders/89/cffytmz50wjbl3q6cf2bvvs00000gn/T/ipykernel_6600/4011832649.py:24: FutureWarning: The frame.append method is deprecated and will be removed from pandas in a future version. Use pandas.concat instead.\n",
      "  df = df.append(addRow, ignore_index=True)\n",
      "/Users/yuhi-sa/.anyenv/envs/pyenv/versions/3.10.4/lib/python3.10/site-packages/xgboost/sklearn.py:1395: UserWarning: `use_label_encoder` is deprecated in 1.7.0.\n",
      "  warnings.warn(\"`use_label_encoder` is deprecated in 1.7.0.\")\n",
      "/Users/yuhi-sa/.anyenv/envs/pyenv/versions/3.10.4/lib/python3.10/site-packages/xgboost/sklearn.py:835: UserWarning: `eval_metric` in `fit` method is deprecated for better compatibility with scikit-learn, use `eval_metric` in constructor or`set_params` instead.\n",
      "  warnings.warn(\n",
      "/Users/yuhi-sa/.anyenv/envs/pyenv/versions/3.10.4/lib/python3.10/site-packages/xgboost/sklearn.py:1395: UserWarning: `use_label_encoder` is deprecated in 1.7.0.\n",
      "  warnings.warn(\"`use_label_encoder` is deprecated in 1.7.0.\")\n",
      "/Users/yuhi-sa/.anyenv/envs/pyenv/versions/3.10.4/lib/python3.10/site-packages/xgboost/sklearn.py:835: UserWarning: `eval_metric` in `fit` method is deprecated for better compatibility with scikit-learn, use `eval_metric` in constructor or`set_params` instead.\n",
      "  warnings.warn(\n",
      "/Users/yuhi-sa/.anyenv/envs/pyenv/versions/3.10.4/lib/python3.10/site-packages/xgboost/sklearn.py:1395: UserWarning: `use_label_encoder` is deprecated in 1.7.0.\n",
      "  warnings.warn(\"`use_label_encoder` is deprecated in 1.7.0.\")\n",
      "/Users/yuhi-sa/.anyenv/envs/pyenv/versions/3.10.4/lib/python3.10/site-packages/xgboost/sklearn.py:835: UserWarning: `eval_metric` in `fit` method is deprecated for better compatibility with scikit-learn, use `eval_metric` in constructor or`set_params` instead.\n",
      "  warnings.warn(\n",
      "/Users/yuhi-sa/.anyenv/envs/pyenv/versions/3.10.4/lib/python3.10/site-packages/xgboost/sklearn.py:1395: UserWarning: `use_label_encoder` is deprecated in 1.7.0.\n",
      "  warnings.warn(\"`use_label_encoder` is deprecated in 1.7.0.\")\n",
      "/Users/yuhi-sa/.anyenv/envs/pyenv/versions/3.10.4/lib/python3.10/site-packages/xgboost/sklearn.py:835: UserWarning: `eval_metric` in `fit` method is deprecated for better compatibility with scikit-learn, use `eval_metric` in constructor or`set_params` instead.\n",
      "  warnings.warn(\n",
      "/var/folders/89/cffytmz50wjbl3q6cf2bvvs00000gn/T/ipykernel_6600/4011832649.py:24: FutureWarning: The frame.append method is deprecated and will be removed from pandas in a future version. Use pandas.concat instead.\n",
      "  df = df.append(addRow, ignore_index=True)\n",
      "/Users/yuhi-sa/.anyenv/envs/pyenv/versions/3.10.4/lib/python3.10/site-packages/xgboost/sklearn.py:1395: UserWarning: `use_label_encoder` is deprecated in 1.7.0.\n",
      "  warnings.warn(\"`use_label_encoder` is deprecated in 1.7.0.\")\n",
      "/Users/yuhi-sa/.anyenv/envs/pyenv/versions/3.10.4/lib/python3.10/site-packages/xgboost/sklearn.py:835: UserWarning: `eval_metric` in `fit` method is deprecated for better compatibility with scikit-learn, use `eval_metric` in constructor or`set_params` instead.\n",
      "  warnings.warn(\n",
      "/Users/yuhi-sa/.anyenv/envs/pyenv/versions/3.10.4/lib/python3.10/site-packages/xgboost/sklearn.py:1395: UserWarning: `use_label_encoder` is deprecated in 1.7.0.\n",
      "  warnings.warn(\"`use_label_encoder` is deprecated in 1.7.0.\")\n",
      "/Users/yuhi-sa/.anyenv/envs/pyenv/versions/3.10.4/lib/python3.10/site-packages/xgboost/sklearn.py:835: UserWarning: `eval_metric` in `fit` method is deprecated for better compatibility with scikit-learn, use `eval_metric` in constructor or`set_params` instead.\n",
      "  warnings.warn(\n",
      "/Users/yuhi-sa/.anyenv/envs/pyenv/versions/3.10.4/lib/python3.10/site-packages/xgboost/sklearn.py:1395: UserWarning: `use_label_encoder` is deprecated in 1.7.0.\n",
      "  warnings.warn(\"`use_label_encoder` is deprecated in 1.7.0.\")\n",
      "/Users/yuhi-sa/.anyenv/envs/pyenv/versions/3.10.4/lib/python3.10/site-packages/xgboost/sklearn.py:835: UserWarning: `eval_metric` in `fit` method is deprecated for better compatibility with scikit-learn, use `eval_metric` in constructor or`set_params` instead.\n",
      "  warnings.warn(\n",
      "/Users/yuhi-sa/.anyenv/envs/pyenv/versions/3.10.4/lib/python3.10/site-packages/xgboost/sklearn.py:1395: UserWarning: `use_label_encoder` is deprecated in 1.7.0.\n",
      "  warnings.warn(\"`use_label_encoder` is deprecated in 1.7.0.\")\n",
      "/Users/yuhi-sa/.anyenv/envs/pyenv/versions/3.10.4/lib/python3.10/site-packages/xgboost/sklearn.py:835: UserWarning: `eval_metric` in `fit` method is deprecated for better compatibility with scikit-learn, use `eval_metric` in constructor or`set_params` instead.\n",
      "  warnings.warn(\n",
      "/var/folders/89/cffytmz50wjbl3q6cf2bvvs00000gn/T/ipykernel_6600/4011832649.py:24: FutureWarning: The frame.append method is deprecated and will be removed from pandas in a future version. Use pandas.concat instead.\n",
      "  df = df.append(addRow, ignore_index=True)\n",
      "/Users/yuhi-sa/.anyenv/envs/pyenv/versions/3.10.4/lib/python3.10/site-packages/xgboost/sklearn.py:1395: UserWarning: `use_label_encoder` is deprecated in 1.7.0.\n",
      "  warnings.warn(\"`use_label_encoder` is deprecated in 1.7.0.\")\n",
      "/Users/yuhi-sa/.anyenv/envs/pyenv/versions/3.10.4/lib/python3.10/site-packages/xgboost/sklearn.py:835: UserWarning: `eval_metric` in `fit` method is deprecated for better compatibility with scikit-learn, use `eval_metric` in constructor or`set_params` instead.\n",
      "  warnings.warn(\n",
      "/Users/yuhi-sa/.anyenv/envs/pyenv/versions/3.10.4/lib/python3.10/site-packages/xgboost/sklearn.py:1395: UserWarning: `use_label_encoder` is deprecated in 1.7.0.\n",
      "  warnings.warn(\"`use_label_encoder` is deprecated in 1.7.0.\")\n",
      "/Users/yuhi-sa/.anyenv/envs/pyenv/versions/3.10.4/lib/python3.10/site-packages/xgboost/sklearn.py:835: UserWarning: `eval_metric` in `fit` method is deprecated for better compatibility with scikit-learn, use `eval_metric` in constructor or`set_params` instead.\n",
      "  warnings.warn(\n",
      "/Users/yuhi-sa/.anyenv/envs/pyenv/versions/3.10.4/lib/python3.10/site-packages/xgboost/sklearn.py:1395: UserWarning: `use_label_encoder` is deprecated in 1.7.0.\n",
      "  warnings.warn(\"`use_label_encoder` is deprecated in 1.7.0.\")\n",
      "/Users/yuhi-sa/.anyenv/envs/pyenv/versions/3.10.4/lib/python3.10/site-packages/xgboost/sklearn.py:835: UserWarning: `eval_metric` in `fit` method is deprecated for better compatibility with scikit-learn, use `eval_metric` in constructor or`set_params` instead.\n",
      "  warnings.warn(\n",
      "/Users/yuhi-sa/.anyenv/envs/pyenv/versions/3.10.4/lib/python3.10/site-packages/xgboost/sklearn.py:1395: UserWarning: `use_label_encoder` is deprecated in 1.7.0.\n",
      "  warnings.warn(\"`use_label_encoder` is deprecated in 1.7.0.\")\n",
      "/Users/yuhi-sa/.anyenv/envs/pyenv/versions/3.10.4/lib/python3.10/site-packages/xgboost/sklearn.py:835: UserWarning: `eval_metric` in `fit` method is deprecated for better compatibility with scikit-learn, use `eval_metric` in constructor or`set_params` instead.\n",
      "  warnings.warn(\n",
      "/var/folders/89/cffytmz50wjbl3q6cf2bvvs00000gn/T/ipykernel_6600/4011832649.py:24: FutureWarning: The frame.append method is deprecated and will be removed from pandas in a future version. Use pandas.concat instead.\n",
      "  df = df.append(addRow, ignore_index=True)\n",
      "/Users/yuhi-sa/.anyenv/envs/pyenv/versions/3.10.4/lib/python3.10/site-packages/xgboost/sklearn.py:1395: UserWarning: `use_label_encoder` is deprecated in 1.7.0.\n",
      "  warnings.warn(\"`use_label_encoder` is deprecated in 1.7.0.\")\n",
      "/Users/yuhi-sa/.anyenv/envs/pyenv/versions/3.10.4/lib/python3.10/site-packages/xgboost/sklearn.py:835: UserWarning: `eval_metric` in `fit` method is deprecated for better compatibility with scikit-learn, use `eval_metric` in constructor or`set_params` instead.\n",
      "  warnings.warn(\n",
      "/Users/yuhi-sa/.anyenv/envs/pyenv/versions/3.10.4/lib/python3.10/site-packages/xgboost/sklearn.py:1395: UserWarning: `use_label_encoder` is deprecated in 1.7.0.\n",
      "  warnings.warn(\"`use_label_encoder` is deprecated in 1.7.0.\")\n",
      "/Users/yuhi-sa/.anyenv/envs/pyenv/versions/3.10.4/lib/python3.10/site-packages/xgboost/sklearn.py:835: UserWarning: `eval_metric` in `fit` method is deprecated for better compatibility with scikit-learn, use `eval_metric` in constructor or`set_params` instead.\n",
      "  warnings.warn(\n",
      "/Users/yuhi-sa/.anyenv/envs/pyenv/versions/3.10.4/lib/python3.10/site-packages/xgboost/sklearn.py:1395: UserWarning: `use_label_encoder` is deprecated in 1.7.0.\n",
      "  warnings.warn(\"`use_label_encoder` is deprecated in 1.7.0.\")\n",
      "/Users/yuhi-sa/.anyenv/envs/pyenv/versions/3.10.4/lib/python3.10/site-packages/xgboost/sklearn.py:835: UserWarning: `eval_metric` in `fit` method is deprecated for better compatibility with scikit-learn, use `eval_metric` in constructor or`set_params` instead.\n",
      "  warnings.warn(\n",
      "/Users/yuhi-sa/.anyenv/envs/pyenv/versions/3.10.4/lib/python3.10/site-packages/xgboost/sklearn.py:1395: UserWarning: `use_label_encoder` is deprecated in 1.7.0.\n",
      "  warnings.warn(\"`use_label_encoder` is deprecated in 1.7.0.\")\n",
      "/Users/yuhi-sa/.anyenv/envs/pyenv/versions/3.10.4/lib/python3.10/site-packages/xgboost/sklearn.py:835: UserWarning: `eval_metric` in `fit` method is deprecated for better compatibility with scikit-learn, use `eval_metric` in constructor or`set_params` instead.\n",
      "  warnings.warn(\n",
      "/var/folders/89/cffytmz50wjbl3q6cf2bvvs00000gn/T/ipykernel_6600/4011832649.py:24: FutureWarning: The frame.append method is deprecated and will be removed from pandas in a future version. Use pandas.concat instead.\n",
      "  df = df.append(addRow, ignore_index=True)\n",
      "/Users/yuhi-sa/.anyenv/envs/pyenv/versions/3.10.4/lib/python3.10/site-packages/xgboost/sklearn.py:1395: UserWarning: `use_label_encoder` is deprecated in 1.7.0.\n",
      "  warnings.warn(\"`use_label_encoder` is deprecated in 1.7.0.\")\n",
      "/Users/yuhi-sa/.anyenv/envs/pyenv/versions/3.10.4/lib/python3.10/site-packages/xgboost/sklearn.py:835: UserWarning: `eval_metric` in `fit` method is deprecated for better compatibility with scikit-learn, use `eval_metric` in constructor or`set_params` instead.\n",
      "  warnings.warn(\n",
      "/Users/yuhi-sa/.anyenv/envs/pyenv/versions/3.10.4/lib/python3.10/site-packages/xgboost/sklearn.py:1395: UserWarning: `use_label_encoder` is deprecated in 1.7.0.\n",
      "  warnings.warn(\"`use_label_encoder` is deprecated in 1.7.0.\")\n",
      "/Users/yuhi-sa/.anyenv/envs/pyenv/versions/3.10.4/lib/python3.10/site-packages/xgboost/sklearn.py:835: UserWarning: `eval_metric` in `fit` method is deprecated for better compatibility with scikit-learn, use `eval_metric` in constructor or`set_params` instead.\n",
      "  warnings.warn(\n",
      "/Users/yuhi-sa/.anyenv/envs/pyenv/versions/3.10.4/lib/python3.10/site-packages/xgboost/sklearn.py:1395: UserWarning: `use_label_encoder` is deprecated in 1.7.0.\n",
      "  warnings.warn(\"`use_label_encoder` is deprecated in 1.7.0.\")\n",
      "/Users/yuhi-sa/.anyenv/envs/pyenv/versions/3.10.4/lib/python3.10/site-packages/xgboost/sklearn.py:835: UserWarning: `eval_metric` in `fit` method is deprecated for better compatibility with scikit-learn, use `eval_metric` in constructor or`set_params` instead.\n",
      "  warnings.warn(\n",
      "/Users/yuhi-sa/.anyenv/envs/pyenv/versions/3.10.4/lib/python3.10/site-packages/xgboost/sklearn.py:1395: UserWarning: `use_label_encoder` is deprecated in 1.7.0.\n",
      "  warnings.warn(\"`use_label_encoder` is deprecated in 1.7.0.\")\n",
      "/Users/yuhi-sa/.anyenv/envs/pyenv/versions/3.10.4/lib/python3.10/site-packages/xgboost/sklearn.py:835: UserWarning: `eval_metric` in `fit` method is deprecated for better compatibility with scikit-learn, use `eval_metric` in constructor or`set_params` instead.\n",
      "  warnings.warn(\n",
      "/var/folders/89/cffytmz50wjbl3q6cf2bvvs00000gn/T/ipykernel_6600/4011832649.py:24: FutureWarning: The frame.append method is deprecated and will be removed from pandas in a future version. Use pandas.concat instead.\n",
      "  df = df.append(addRow, ignore_index=True)\n",
      "/Users/yuhi-sa/.anyenv/envs/pyenv/versions/3.10.4/lib/python3.10/site-packages/xgboost/sklearn.py:1395: UserWarning: `use_label_encoder` is deprecated in 1.7.0.\n",
      "  warnings.warn(\"`use_label_encoder` is deprecated in 1.7.0.\")\n",
      "/Users/yuhi-sa/.anyenv/envs/pyenv/versions/3.10.4/lib/python3.10/site-packages/xgboost/sklearn.py:835: UserWarning: `eval_metric` in `fit` method is deprecated for better compatibility with scikit-learn, use `eval_metric` in constructor or`set_params` instead.\n",
      "  warnings.warn(\n",
      "/Users/yuhi-sa/.anyenv/envs/pyenv/versions/3.10.4/lib/python3.10/site-packages/xgboost/sklearn.py:1395: UserWarning: `use_label_encoder` is deprecated in 1.7.0.\n",
      "  warnings.warn(\"`use_label_encoder` is deprecated in 1.7.0.\")\n",
      "/Users/yuhi-sa/.anyenv/envs/pyenv/versions/3.10.4/lib/python3.10/site-packages/xgboost/sklearn.py:835: UserWarning: `eval_metric` in `fit` method is deprecated for better compatibility with scikit-learn, use `eval_metric` in constructor or`set_params` instead.\n",
      "  warnings.warn(\n",
      "/Users/yuhi-sa/.anyenv/envs/pyenv/versions/3.10.4/lib/python3.10/site-packages/xgboost/sklearn.py:1395: UserWarning: `use_label_encoder` is deprecated in 1.7.0.\n",
      "  warnings.warn(\"`use_label_encoder` is deprecated in 1.7.0.\")\n",
      "/Users/yuhi-sa/.anyenv/envs/pyenv/versions/3.10.4/lib/python3.10/site-packages/xgboost/sklearn.py:835: UserWarning: `eval_metric` in `fit` method is deprecated for better compatibility with scikit-learn, use `eval_metric` in constructor or`set_params` instead.\n",
      "  warnings.warn(\n",
      "/Users/yuhi-sa/.anyenv/envs/pyenv/versions/3.10.4/lib/python3.10/site-packages/xgboost/sklearn.py:1395: UserWarning: `use_label_encoder` is deprecated in 1.7.0.\n",
      "  warnings.warn(\"`use_label_encoder` is deprecated in 1.7.0.\")\n",
      "/Users/yuhi-sa/.anyenv/envs/pyenv/versions/3.10.4/lib/python3.10/site-packages/xgboost/sklearn.py:835: UserWarning: `eval_metric` in `fit` method is deprecated for better compatibility with scikit-learn, use `eval_metric` in constructor or`set_params` instead.\n",
      "  warnings.warn(\n",
      "/var/folders/89/cffytmz50wjbl3q6cf2bvvs00000gn/T/ipykernel_6600/4011832649.py:24: FutureWarning: The frame.append method is deprecated and will be removed from pandas in a future version. Use pandas.concat instead.\n",
      "  df = df.append(addRow, ignore_index=True)\n",
      "/Users/yuhi-sa/.anyenv/envs/pyenv/versions/3.10.4/lib/python3.10/site-packages/xgboost/sklearn.py:1395: UserWarning: `use_label_encoder` is deprecated in 1.7.0.\n",
      "  warnings.warn(\"`use_label_encoder` is deprecated in 1.7.0.\")\n",
      "/Users/yuhi-sa/.anyenv/envs/pyenv/versions/3.10.4/lib/python3.10/site-packages/xgboost/sklearn.py:835: UserWarning: `eval_metric` in `fit` method is deprecated for better compatibility with scikit-learn, use `eval_metric` in constructor or`set_params` instead.\n",
      "  warnings.warn(\n",
      "/Users/yuhi-sa/.anyenv/envs/pyenv/versions/3.10.4/lib/python3.10/site-packages/xgboost/sklearn.py:1395: UserWarning: `use_label_encoder` is deprecated in 1.7.0.\n",
      "  warnings.warn(\"`use_label_encoder` is deprecated in 1.7.0.\")\n",
      "/Users/yuhi-sa/.anyenv/envs/pyenv/versions/3.10.4/lib/python3.10/site-packages/xgboost/sklearn.py:835: UserWarning: `eval_metric` in `fit` method is deprecated for better compatibility with scikit-learn, use `eval_metric` in constructor or`set_params` instead.\n",
      "  warnings.warn(\n",
      "/Users/yuhi-sa/.anyenv/envs/pyenv/versions/3.10.4/lib/python3.10/site-packages/xgboost/sklearn.py:1395: UserWarning: `use_label_encoder` is deprecated in 1.7.0.\n",
      "  warnings.warn(\"`use_label_encoder` is deprecated in 1.7.0.\")\n",
      "/Users/yuhi-sa/.anyenv/envs/pyenv/versions/3.10.4/lib/python3.10/site-packages/xgboost/sklearn.py:835: UserWarning: `eval_metric` in `fit` method is deprecated for better compatibility with scikit-learn, use `eval_metric` in constructor or`set_params` instead.\n",
      "  warnings.warn(\n",
      "/Users/yuhi-sa/.anyenv/envs/pyenv/versions/3.10.4/lib/python3.10/site-packages/xgboost/sklearn.py:1395: UserWarning: `use_label_encoder` is deprecated in 1.7.0.\n",
      "  warnings.warn(\"`use_label_encoder` is deprecated in 1.7.0.\")\n",
      "/Users/yuhi-sa/.anyenv/envs/pyenv/versions/3.10.4/lib/python3.10/site-packages/xgboost/sklearn.py:835: UserWarning: `eval_metric` in `fit` method is deprecated for better compatibility with scikit-learn, use `eval_metric` in constructor or`set_params` instead.\n",
      "  warnings.warn(\n",
      "/var/folders/89/cffytmz50wjbl3q6cf2bvvs00000gn/T/ipykernel_6600/4011832649.py:24: FutureWarning: The frame.append method is deprecated and will be removed from pandas in a future version. Use pandas.concat instead.\n",
      "  df = df.append(addRow, ignore_index=True)\n"
     ]
    }
   ],
   "source": [
    "df = pd.DataFrame([], columns =[\"name\",\"max_depth\", \"min_child_weight\", \"scores\"])\n",
    "\n",
    "for max_depth, min_child_weight in param_comb:\n",
    "    score = []\n",
    "    # cross-validation\n",
    "    kf = KFold(n_splits=4, shuffle=True, random_state=123456)\n",
    "    for tr_idx, va_idx in kf.split(train_x):\n",
    "        tr_x, va_x = train_x.iloc[tr_idx], train_x.iloc[va_idx]\n",
    "        tr_y, va_y = train_y.iloc[tr_idx], train_y.iloc[va_idx]\n",
    "\n",
    "        # learn\n",
    "        model = XGBClassifier(max_depth=max_depth,\n",
    "                                min_child_weight=min_child_weight,\n",
    "                                use_label_encoder =False)\n",
    "\n",
    "        model.fit(tr_x, tr_y,eval_metric='logloss')\n",
    "        # predict\n",
    "        va_pred = model.predict_proba(va_x)[:,1]\n",
    "        # score\n",
    "        logloss = log_loss(va_y, va_pred)\n",
    "        score.append(logloss)\n",
    "    \n",
    "    addRow = pd.Series([str(max_depth)+\"-\"+str(min_child_weight), max_depth, min_child_weight, np.mean(score)], index=df.columns)\n",
    "    df = df.append(addRow, ignore_index=True)"
   ]
  },
  {
   "cell_type": "code",
   "execution_count": 26,
   "id": "d08f3b90",
   "metadata": {
    "execution": {
     "iopub.execute_input": "2022-02-23T06:53:57.784754Z",
     "iopub.status.busy": "2022-02-23T06:53:57.780213Z",
     "iopub.status.idle": "2022-02-23T06:53:58.074805Z",
     "shell.execute_reply": "2022-02-23T06:53:58.074307Z",
     "shell.execute_reply.started": "2022-02-23T06:53:10.913566Z"
    },
    "papermill": {
     "duration": 0.34371,
     "end_time": "2022-02-23T06:53:58.074943",
     "exception": false,
     "start_time": "2022-02-23T06:53:57.731233",
     "status": "completed"
    },
    "tags": []
   },
   "outputs": [
    {
     "data": {
      "text/plain": [
       "<Axes: xlabel='name', ylabel='scores'>"
      ]
     },
     "execution_count": 26,
     "metadata": {},
     "output_type": "execute_result"
    },
    {
     "data": {
      "image/png": "[encoded data removed]",
      "text/plain": [
       "<Figure size 640x480 with 1 Axes>"
      ]
     },
     "metadata": {},
     "output_type": "display_data"
    }
   ],
   "source": [
    "sns.barplot(x=\"name\", y=\"scores\", data=df)"
   ]
  },
  {
   "cell_type": "code",
   "execution_count": 27,
   "id": "2edc70f2",
   "metadata": {
    "execution": {
     "iopub.execute_input": "2022-02-23T06:53:58.130863Z",
     "iopub.status.busy": "2022-02-23T06:53:58.130213Z",
     "iopub.status.idle": "2022-02-23T06:53:58.132935Z",
     "shell.execute_reply": "2022-02-23T06:53:58.133558Z",
     "shell.execute_reply.started": "2022-02-23T06:53:11.260151Z"
    },
    "papermill": {
     "duration": 0.032549,
     "end_time": "2022-02-23T06:53:58.133719",
     "exception": false,
     "start_time": "2022-02-23T06:53:58.101170",
     "status": "completed"
    },
    "tags": []
   },
   "outputs": [],
   "source": [
    "best_max_depth = 9\n",
    "best_min_child_weight = 1"
   ]
  },
  {
   "cell_type": "markdown",
   "id": "1b55f053",
   "metadata": {
    "papermill": {
     "duration": 0.025209,
     "end_time": "2022-02-23T06:53:58.184037",
     "exception": false,
     "start_time": "2022-02-23T06:53:58.158828",
     "status": "completed"
    },
    "tags": []
   },
   "source": [
    "# Predict by Ensemble"
   ]
  },
  {
   "cell_type": "code",
   "execution_count": 28,
   "id": "82b65cac",
   "metadata": {
    "execution": {
     "iopub.execute_input": "2022-02-23T06:53:58.238008Z",
     "iopub.status.busy": "2022-02-23T06:53:58.237402Z",
     "iopub.status.idle": "2022-02-23T06:53:58.461900Z",
     "shell.execute_reply": "2022-02-23T06:53:58.462333Z",
     "shell.execute_reply.started": "2022-02-23T06:53:11.266542Z"
    },
    "papermill": {
     "duration": 0.25296,
     "end_time": "2022-02-23T06:53:58.462510",
     "exception": false,
     "start_time": "2022-02-23T06:53:58.209550",
     "status": "completed"
    },
    "tags": []
   },
   "outputs": [
    {
     "name": "stderr",
     "output_type": "stream",
     "text": [
      "/Users/yuhi-sa/.anyenv/envs/pyenv/versions/3.10.4/lib/python3.10/site-packages/xgboost/sklearn.py:1395: UserWarning: `use_label_encoder` is deprecated in 1.7.0.\n",
      "  warnings.warn(\"`use_label_encoder` is deprecated in 1.7.0.\")\n",
      "/Users/yuhi-sa/.anyenv/envs/pyenv/versions/3.10.4/lib/python3.10/site-packages/xgboost/sklearn.py:835: UserWarning: `eval_metric` in `fit` method is deprecated for better compatibility with scikit-learn, use `eval_metric` in constructor or`set_params` instead.\n",
      "  warnings.warn(\n"
     ]
    }
   ],
   "source": [
    "# xgbppst\n",
    "model_xgb = XGBClassifier(max_depth=best_max_depth,\n",
    "                            min_child_weight=best_min_child_weight,\n",
    "                            use_label_encoder=False)\n",
    "model_xgb.fit(train_x, train_y, eval_metric='logloss')\n",
    "pred_xgb = model_xgb.predict_proba(test_x)[:,1]\n",
    "\n",
    "# LigisticRegression\n",
    "from sklearn.linear_model import LogisticRegression\n",
    "model_lr = LogisticRegression(solver=\"lbfgs\", max_iter=300)\n",
    "model_lr.fit(train_x.fillna(0), train_y.fillna(0))\n",
    "pred_lr = model_lr.predict_proba(test_x.fillna(0))[:,1]\n",
    "\n",
    "pred = pred_xgb*0.9 + pred_lr*0.1\n",
    "pred_label = np.where(pred>0.5, 1,0)"
   ]
  },
  {
   "cell_type": "markdown",
   "id": "359acf28",
   "metadata": {
    "papermill": {
     "duration": 0.024626,
     "end_time": "2022-02-23T06:53:58.512102",
     "exception": false,
     "start_time": "2022-02-23T06:53:58.487476",
     "status": "completed"
    },
    "tags": []
   },
   "source": [
    "# submission"
   ]
  },
  {
   "cell_type": "code",
   "execution_count": 29,
   "id": "aa859b89",
   "metadata": {
    "execution": {
     "iopub.execute_input": "2022-02-23T06:53:58.568253Z",
     "iopub.status.busy": "2022-02-23T06:53:58.567664Z",
     "iopub.status.idle": "2022-02-23T06:53:58.574107Z",
     "shell.execute_reply": "2022-02-23T06:53:58.574541Z",
     "shell.execute_reply.started": "2022-02-23T06:53:11.550909Z"
    },
    "papermill": {
     "duration": 0.037079,
     "end_time": "2022-02-23T06:53:58.574700",
     "exception": false,
     "start_time": "2022-02-23T06:53:58.537621",
     "status": "completed"
    },
    "tags": []
   },
   "outputs": [],
   "source": [
    "submission = pd.DataFrame({\"PassengerId\":test[\"PassengerId\"],\"Survived\":pred_label})\n",
    "submission.to_csv(\"submission.csv\",index=False)"
   ]
  }
 ],
 "metadata": {
  "kernelspec": {
   "display_name": "Python 3",
   "language": "python",
   "name": "python3"
  },
  "language_info": {
   "codemirror_mode": {
    "name": "ipython",
    "version": 3
   },
   "file_extension": ".py",
   "mimetype": "text/x-python",
   "name": "python",
   "nbconvert_exporter": "python",
   "pygments_lexer": "ipython3",
   "version": "3.10.4"
  },
  "papermill": {
   "default_parameters": {},
   "duration": 16.62251,
   "end_time": "2022-02-23T06:53:59.208642",
   "environment_variables": {},
   "exception": null,
   "input_path": "__notebook__.ipynb",
   "output_path": "__notebook__.ipynb",
   "parameters": {},
   "start_time": "2022-02-23T06:53:42.586132",
   "version": "2.3.3"
  },
  "vscode": {
   "interpreter": {
    "hash": "b029d60df2bbdd9779598eb6aaf101d7f9e21c33f86fc3193c36616674903d22"
   }
  }
 },
 "nbformat": 4,
 "nbformat_minor": 5
}
